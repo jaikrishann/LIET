{
 "cells": [
  {
   "cell_type": "code",
   "execution_count": null,
   "metadata": {},
   "outputs": [],
   "source": []
  },
  {
   "cell_type": "markdown",
   "metadata": {},
   "source": [
    "# Inheritance \n",
    "* grand_father to father to child"
   ]
  },
  {
   "cell_type": "markdown",
   "metadata": {},
   "source": []
  },
  {
   "cell_type": "code",
   "execution_count": 2,
   "metadata": {},
   "outputs": [
    {
     "name": "stdout",
     "output_type": "stream",
     "text": [
      "mohan@gmail.com\n"
     ]
    }
   ],
   "source": [
    "       \n",
    "\n",
    "class Father:\n",
    "    son_name = 'mohan'\n",
    "    son_age = \"15\"\n",
    "    _son_id = 'mohan@gmail.com'\n",
    "    son_pass = \"444\"\n",
    "     \n",
    "\n",
    "    def display(self):\n",
    "        print(self.son_name,\"public variable\")\n",
    "        print(self._son_id,\"protected variable\")\n",
    "        print(self.__son_pass,\"private variable\")\n",
    "\n",
    "class Son(Father):\n",
    "    pass\n",
    "    \n",
    "    \n",
    "obj = Son()\n",
    "print(obj._son_id)"
   ]
  },
  {
   "cell_type": "code",
   "execution_count": null,
   "metadata": {},
   "outputs": [],
   "source": [
    "print()"
   ]
  }
 ],
 "metadata": {
  "kernelspec": {
   "display_name": "Python 3",
   "language": "python",
   "name": "python3"
  },
  "language_info": {
   "codemirror_mode": {
    "name": "ipython",
    "version": 3
   },
   "file_extension": ".py",
   "mimetype": "text/x-python",
   "name": "python",
   "nbconvert_exporter": "python",
   "pygments_lexer": "ipython3",
   "version": "3.12.2"
  }
 },
 "nbformat": 4,
 "nbformat_minor": 2
}
