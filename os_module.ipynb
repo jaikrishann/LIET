{
 "cells": [
  {
   "cell_type": "code",
   "execution_count": 2,
   "metadata": {},
   "outputs": [],
   "source": [
    "import os"
   ]
  },
  {
   "cell_type": "code",
   "execution_count": 6,
   "metadata": {},
   "outputs": [
    {
     "data": {
      "text/plain": [
       "'nt'"
      ]
     },
     "execution_count": 6,
     "metadata": {},
     "output_type": "execute_result"
    }
   ],
   "source": [
    "os.name"
   ]
  },
  {
   "cell_type": "markdown",
   "metadata": {},
   "source": [
    "### Possible Values\n",
    "\n",
    "'posix': It means the operating system is Unix-like (e.g., Linux, macOS).\n",
    "\n",
    "'nt': It means the operating system is Windows (New Technology).\n",
    "\n",
    "'os2': It means the operating system is OS/2.\n",
    "\n",
    "'ce': It means the operating system is Windows CE.\n",
    "\n",
    "'java': It means the operating system is Java.\n",
    "\n",
    "'riscos': It means the operating system is RISC OS."
   ]
  },
  {
   "cell_type": "code",
   "execution_count": 3,
   "metadata": {},
   "outputs": [
    {
     "data": {
      "text/plain": [
       "'c:\\\\Users\\\\Jai\\\\Desktop\\\\LEIT'"
      ]
     },
     "execution_count": 3,
     "metadata": {},
     "output_type": "execute_result"
    }
   ],
   "source": [
    "os.getcwd()"
   ]
  },
  {
   "cell_type": "code",
   "execution_count": 4,
   "metadata": {},
   "outputs": [],
   "source": [
    "os.chdir(\"..\")       "
   ]
  },
  {
   "cell_type": "code",
   "execution_count": 5,
   "metadata": {},
   "outputs": [
    {
     "data": {
      "text/plain": [
       "'c:\\\\Users\\\\Jai\\\\Desktop'"
      ]
     },
     "execution_count": 5,
     "metadata": {},
     "output_type": "execute_result"
    }
   ],
   "source": [
    "os.getcwd()"
   ]
  },
  {
   "cell_type": "code",
   "execution_count": 7,
   "metadata": {},
   "outputs": [
    {
     "data": {
      "text/plain": [
       "['1',\n",
       " 'desktop.ini',\n",
       " 'Jai (Jaiiii) - Chrome.lnk',\n",
       " 'LEIT',\n",
       " 'New folder',\n",
       " 'New folder (2)',\n",
       " 'teaching_code',\n",
       " 'Visual Studio Code.lnk',\n",
       " '~$DUTY_CHART_JULY-2023.xlsx',\n",
       " '~$NUMBRA.docx',\n",
       " '~$R_JAI KRISHAN.docx',\n",
       " '~$signment_Jai Krishan.docx',\n",
       " '~WRL3740.tmp']"
      ]
     },
     "execution_count": 7,
     "metadata": {},
     "output_type": "execute_result"
    }
   ],
   "source": [
    "os.listdir(\".\")"
   ]
  },
  {
   "cell_type": "code",
   "execution_count": 8,
   "metadata": {},
   "outputs": [],
   "source": [
    "os.mkdir(\"c:\\\\Users\\\\Jai\\\\Desktop\\\\Jai shree Ram\")\n"
   ]
  },
  {
   "cell_type": "code",
   "execution_count": 9,
   "metadata": {},
   "outputs": [
    {
     "data": {
      "text/plain": [
       "['1',\n",
       " 'desktop.ini',\n",
       " 'Jai (Jaiiii) - Chrome.lnk',\n",
       " 'Jai shree Ram',\n",
       " 'LEIT',\n",
       " 'New folder',\n",
       " 'New folder (2)',\n",
       " 'teaching_code',\n",
       " 'Visual Studio Code.lnk',\n",
       " '~$DUTY_CHART_JULY-2023.xlsx',\n",
       " '~$NUMBRA.docx',\n",
       " '~$R_JAI KRISHAN.docx',\n",
       " '~$signment_Jai Krishan.docx',\n",
       " '~WRL3740.tmp']"
      ]
     },
     "execution_count": 9,
     "metadata": {},
     "output_type": "execute_result"
    }
   ],
   "source": [
    "os.listdir()"
   ]
  },
  {
   "cell_type": "code",
   "execution_count": 11,
   "metadata": {},
   "outputs": [],
   "source": [
    "os.rename(\"Jai shree Ram\", \"RAM\")"
   ]
  },
  {
   "cell_type": "code",
   "execution_count": 12,
   "metadata": {},
   "outputs": [
    {
     "data": {
      "text/plain": [
       "['1',\n",
       " 'desktop.ini',\n",
       " 'Jai (Jaiiii) - Chrome.lnk',\n",
       " 'LEIT',\n",
       " 'New folder',\n",
       " 'New folder (2)',\n",
       " 'RAM',\n",
       " 'teaching_code',\n",
       " 'Visual Studio Code.lnk',\n",
       " '~$DUTY_CHART_JULY-2023.xlsx',\n",
       " '~$NUMBRA.docx',\n",
       " '~$R_JAI KRISHAN.docx',\n",
       " '~$signment_Jai Krishan.docx',\n",
       " '~WRL3740.tmp']"
      ]
     },
     "execution_count": 12,
     "metadata": {},
     "output_type": "execute_result"
    }
   ],
   "source": [
    "os.listdir()"
   ]
  },
  {
   "cell_type": "code",
   "execution_count": 15,
   "metadata": {},
   "outputs": [
    {
     "data": {
      "text/plain": [
       "'c:\\\\Users\\\\Jai\\\\Desktop'"
      ]
     },
     "execution_count": 15,
     "metadata": {},
     "output_type": "execute_result"
    }
   ],
   "source": [
    "os.getcwd()"
   ]
  },
  {
   "cell_type": "code",
   "execution_count": 16,
   "metadata": {},
   "outputs": [],
   "source": [
    "os.makedirs(\"c:\\\\Users\\\\Jai\\\\ram\\\\Desktop\")"
   ]
  },
  {
   "cell_type": "code",
   "execution_count": null,
   "metadata": {},
   "outputs": [],
   "source": []
  }
 ],
 "metadata": {
  "kernelspec": {
   "display_name": "Python 3",
   "language": "python",
   "name": "python3"
  },
  "language_info": {
   "codemirror_mode": {
    "name": "ipython",
    "version": 3
   },
   "file_extension": ".py",
   "mimetype": "text/x-python",
   "name": "python",
   "nbconvert_exporter": "python",
   "pygments_lexer": "ipython3",
   "version": "3.12.2"
  }
 },
 "nbformat": 4,
 "nbformat_minor": 2
}
