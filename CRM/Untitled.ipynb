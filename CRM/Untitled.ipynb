{
 "cells": [
  {
   "cell_type": "code",
   "execution_count": 2,
   "id": "db1a0192",
   "metadata": {},
   "outputs": [],
   "source": [
    "import joblib\n",
    "df = joblib.load('df.lb')"
   ]
  },
  {
   "cell_type": "code",
   "execution_count": 3,
   "id": "0e15e2ac",
   "metadata": {},
   "outputs": [
    {
     "data": {
      "text/plain": [
       "array(['rice', 'maize', 'chickpea', 'kidneybeans', 'pigeonpeas',\n",
       "       'mothbeans', 'mungbean', 'blackgram', 'lentil', 'pomegranate',\n",
       "       'banana', 'mango', 'grapes', 'watermelon', 'muskmelon', 'apple',\n",
       "       'orange', 'papaya', 'coconut', 'cotton', 'jute', 'coffee'],\n",
       "      dtype=object)"
      ]
     },
     "execution_count": 3,
     "metadata": {},
     "output_type": "execute_result"
    }
   ],
   "source": [
    "df['label'].unique()"
   ]
  },
  {
   "cell_type": "code",
   "execution_count": 4,
   "id": "1872f9dc",
   "metadata": {},
   "outputs": [
    {
     "data": {
      "text/plain": [
       "label\n",
       "kidneybeans    100\n",
       "pigeonpeas      31\n",
       "chickpea         5\n",
       "lentil           4\n",
       "dtype: int64"
      ]
     },
     "execution_count": 4,
     "metadata": {},
     "output_type": "execute_result"
    }
   ],
   "source": [
    "df[df['cluster_12'] == 5].value_counts('label')"
   ]
  },
  {
   "cell_type": "code",
   "execution_count": 5,
   "id": "039d7fdc",
   "metadata": {},
   "outputs": [
    {
     "data": {
      "text/html": [
       "<div>\n",
       "<style scoped>\n",
       "    .dataframe tbody tr th:only-of-type {\n",
       "        vertical-align: middle;\n",
       "    }\n",
       "\n",
       "    .dataframe tbody tr th {\n",
       "        vertical-align: top;\n",
       "    }\n",
       "\n",
       "    .dataframe thead th {\n",
       "        text-align: right;\n",
       "    }\n",
       "</style>\n",
       "<table border=\"1\" class=\"dataframe\">\n",
       "  <thead>\n",
       "    <tr style=\"text-align: right;\">\n",
       "      <th></th>\n",
       "      <th>N</th>\n",
       "      <th>P</th>\n",
       "      <th>K</th>\n",
       "      <th>temperature</th>\n",
       "      <th>humidity</th>\n",
       "      <th>ph</th>\n",
       "      <th>rainfall</th>\n",
       "      <th>label</th>\n",
       "      <th>cluster_8</th>\n",
       "      <th>cluster_12</th>\n",
       "    </tr>\n",
       "  </thead>\n",
       "  <tbody>\n",
       "    <tr>\n",
       "      <th>300</th>\n",
       "      <td>13</td>\n",
       "      <td>60</td>\n",
       "      <td>25</td>\n",
       "      <td>17.136928</td>\n",
       "      <td>20.595417</td>\n",
       "      <td>5.685972</td>\n",
       "      <td>128.256862</td>\n",
       "      <td>kidneybeans</td>\n",
       "      <td>2</td>\n",
       "      <td>5</td>\n",
       "    </tr>\n",
       "    <tr>\n",
       "      <th>301</th>\n",
       "      <td>25</td>\n",
       "      <td>70</td>\n",
       "      <td>16</td>\n",
       "      <td>19.634743</td>\n",
       "      <td>18.907056</td>\n",
       "      <td>5.759237</td>\n",
       "      <td>106.359818</td>\n",
       "      <td>kidneybeans</td>\n",
       "      <td>2</td>\n",
       "      <td>5</td>\n",
       "    </tr>\n",
       "    <tr>\n",
       "      <th>302</th>\n",
       "      <td>31</td>\n",
       "      <td>55</td>\n",
       "      <td>22</td>\n",
       "      <td>22.913502</td>\n",
       "      <td>21.339531</td>\n",
       "      <td>5.873172</td>\n",
       "      <td>109.225556</td>\n",
       "      <td>kidneybeans</td>\n",
       "      <td>2</td>\n",
       "      <td>5</td>\n",
       "    </tr>\n",
       "    <tr>\n",
       "      <th>303</th>\n",
       "      <td>40</td>\n",
       "      <td>64</td>\n",
       "      <td>16</td>\n",
       "      <td>16.433403</td>\n",
       "      <td>24.240459</td>\n",
       "      <td>5.926677</td>\n",
       "      <td>140.371781</td>\n",
       "      <td>kidneybeans</td>\n",
       "      <td>2</td>\n",
       "      <td>5</td>\n",
       "    </tr>\n",
       "    <tr>\n",
       "      <th>304</th>\n",
       "      <td>2</td>\n",
       "      <td>61</td>\n",
       "      <td>20</td>\n",
       "      <td>22.139747</td>\n",
       "      <td>23.022511</td>\n",
       "      <td>5.955617</td>\n",
       "      <td>76.641283</td>\n",
       "      <td>kidneybeans</td>\n",
       "      <td>2</td>\n",
       "      <td>5</td>\n",
       "    </tr>\n",
       "    <tr>\n",
       "      <th>...</th>\n",
       "      <td>...</td>\n",
       "      <td>...</td>\n",
       "      <td>...</td>\n",
       "      <td>...</td>\n",
       "      <td>...</td>\n",
       "      <td>...</td>\n",
       "      <td>...</td>\n",
       "      <td>...</td>\n",
       "      <td>...</td>\n",
       "      <td>...</td>\n",
       "    </tr>\n",
       "    <tr>\n",
       "      <th>395</th>\n",
       "      <td>27</td>\n",
       "      <td>65</td>\n",
       "      <td>18</td>\n",
       "      <td>20.109938</td>\n",
       "      <td>23.223238</td>\n",
       "      <td>5.595032</td>\n",
       "      <td>73.363865</td>\n",
       "      <td>kidneybeans</td>\n",
       "      <td>2</td>\n",
       "      <td>5</td>\n",
       "    </tr>\n",
       "    <tr>\n",
       "      <th>396</th>\n",
       "      <td>30</td>\n",
       "      <td>63</td>\n",
       "      <td>16</td>\n",
       "      <td>23.605066</td>\n",
       "      <td>21.905396</td>\n",
       "      <td>5.525905</td>\n",
       "      <td>100.597873</td>\n",
       "      <td>kidneybeans</td>\n",
       "      <td>2</td>\n",
       "      <td>5</td>\n",
       "    </tr>\n",
       "    <tr>\n",
       "      <th>397</th>\n",
       "      <td>37</td>\n",
       "      <td>70</td>\n",
       "      <td>25</td>\n",
       "      <td>19.731369</td>\n",
       "      <td>24.894874</td>\n",
       "      <td>5.819404</td>\n",
       "      <td>84.063541</td>\n",
       "      <td>kidneybeans</td>\n",
       "      <td>2</td>\n",
       "      <td>5</td>\n",
       "    </tr>\n",
       "    <tr>\n",
       "      <th>398</th>\n",
       "      <td>27</td>\n",
       "      <td>63</td>\n",
       "      <td>19</td>\n",
       "      <td>20.934099</td>\n",
       "      <td>21.189301</td>\n",
       "      <td>5.562202</td>\n",
       "      <td>133.191442</td>\n",
       "      <td>kidneybeans</td>\n",
       "      <td>2</td>\n",
       "      <td>5</td>\n",
       "    </tr>\n",
       "    <tr>\n",
       "      <th>399</th>\n",
       "      <td>22</td>\n",
       "      <td>60</td>\n",
       "      <td>24</td>\n",
       "      <td>18.782263</td>\n",
       "      <td>20.247683</td>\n",
       "      <td>5.630665</td>\n",
       "      <td>104.257072</td>\n",
       "      <td>kidneybeans</td>\n",
       "      <td>2</td>\n",
       "      <td>5</td>\n",
       "    </tr>\n",
       "  </tbody>\n",
       "</table>\n",
       "<p>100 rows × 10 columns</p>\n",
       "</div>"
      ],
      "text/plain": [
       "      N   P   K  temperature   humidity        ph    rainfall        label  \\\n",
       "300  13  60  25    17.136928  20.595417  5.685972  128.256862  kidneybeans   \n",
       "301  25  70  16    19.634743  18.907056  5.759237  106.359818  kidneybeans   \n",
       "302  31  55  22    22.913502  21.339531  5.873172  109.225556  kidneybeans   \n",
       "303  40  64  16    16.433403  24.240459  5.926677  140.371781  kidneybeans   \n",
       "304   2  61  20    22.139747  23.022511  5.955617   76.641283  kidneybeans   \n",
       "..   ..  ..  ..          ...        ...       ...         ...          ...   \n",
       "395  27  65  18    20.109938  23.223238  5.595032   73.363865  kidneybeans   \n",
       "396  30  63  16    23.605066  21.905396  5.525905  100.597873  kidneybeans   \n",
       "397  37  70  25    19.731369  24.894874  5.819404   84.063541  kidneybeans   \n",
       "398  27  63  19    20.934099  21.189301  5.562202  133.191442  kidneybeans   \n",
       "399  22  60  24    18.782263  20.247683  5.630665  104.257072  kidneybeans   \n",
       "\n",
       "     cluster_8  cluster_12  \n",
       "300          2           5  \n",
       "301          2           5  \n",
       "302          2           5  \n",
       "303          2           5  \n",
       "304          2           5  \n",
       "..         ...         ...  \n",
       "395          2           5  \n",
       "396          2           5  \n",
       "397          2           5  \n",
       "398          2           5  \n",
       "399          2           5  \n",
       "\n",
       "[100 rows x 10 columns]"
      ]
     },
     "execution_count": 5,
     "metadata": {},
     "output_type": "execute_result"
    }
   ],
   "source": [
    "df[(df['cluster_12'] == 5) & (df['label'] == 'kidneybeans')]"
   ]
  },
  {
   "cell_type": "code",
   "execution_count": 6,
   "id": "853d426d",
   "metadata": {},
   "outputs": [],
   "source": [
    "scaler = joblib.load('scaler.lb')\n",
    "kmeans =  joblib.load('kmeans_model.lb')\n"
   ]
  },
  {
   "cell_type": "code",
   "execution_count": null,
   "id": "60405d46",
   "metadata": {},
   "outputs": [],
   "source": []
  },
  {
   "cell_type": "code",
   "execution_count": 20,
   "id": "94e4771e",
   "metadata": {},
   "outputs": [
    {
     "ename": "NameError",
     "evalue": "name 'n' is not defined",
     "output_type": "error",
     "traceback": [
      "\u001b[1;31m---------------------------------------------------------------------------\u001b[0m",
      "\u001b[1;31mNameError\u001b[0m                                 Traceback (most recent call last)",
      "\u001b[1;32m~\\AppData\\Local\\Temp\\ipykernel_15804\\2482345425.py\u001b[0m in \u001b[0;36m<module>\u001b[1;34m\u001b[0m\n\u001b[1;32m----> 1\u001b[1;33m \u001b[0muser_data\u001b[0m \u001b[1;33m=\u001b[0m \u001b[1;33m[\u001b[0m\u001b[1;33m[\u001b[0m\u001b[0mn\u001b[0m \u001b[1;33m,\u001b[0m \u001b[0mp\u001b[0m \u001b[1;33m,\u001b[0m \u001b[0mk\u001b[0m \u001b[1;33m,\u001b[0m \u001b[0mt\u001b[0m\u001b[1;33m,\u001b[0m \u001b[0mh\u001b[0m\u001b[1;33m,\u001b[0m \u001b[0mph\u001b[0m \u001b[1;33m,\u001b[0m \u001b[0mr\u001b[0m \u001b[1;33m]\u001b[0m\u001b[1;33m]\u001b[0m\u001b[1;33m\u001b[0m\u001b[1;33m\u001b[0m\u001b[0m\n\u001b[0m\u001b[0;32m      2\u001b[0m \u001b[0mtrans_data\u001b[0m \u001b[1;33m=\u001b[0m \u001b[0mscaler\u001b[0m\u001b[1;33m.\u001b[0m\u001b[0mtransform\u001b[0m\u001b[1;33m(\u001b[0m\u001b[0muser_data\u001b[0m\u001b[1;33m)\u001b[0m\u001b[1;33m\u001b[0m\u001b[1;33m\u001b[0m\u001b[0m\n\u001b[0;32m      3\u001b[0m \u001b[0mprediction\u001b[0m \u001b[1;33m=\u001b[0m \u001b[0mkmeans\u001b[0m\u001b[1;33m.\u001b[0m\u001b[0mpredict\u001b[0m\u001b[1;33m(\u001b[0m\u001b[0mtrans_data\u001b[0m\u001b[1;33m)\u001b[0m\u001b[1;33m[\u001b[0m\u001b[1;36m0\u001b[0m\u001b[1;33m]\u001b[0m\u001b[1;33m\u001b[0m\u001b[1;33m\u001b[0m\u001b[0m\n",
      "\u001b[1;31mNameError\u001b[0m: name 'n' is not defined"
     ]
    }
   ],
   "source": [
    "user_data = [[n , p , k , t, h, ph , r ]]\n",
    "        trans_data = scaler.transform(user_data)\n",
    "        prediction = kmeans.predict(trans_data)[0]\n"
   ]
  },
  {
   "cell_type": "code",
   "execution_count": null,
   "id": "2026fba9",
   "metadata": {},
   "outputs": [],
   "source": []
  }
 ],
 "metadata": {
  "kernelspec": {
   "display_name": "Python 3 (ipykernel)",
   "language": "python",
   "name": "python3"
  },
  "language_info": {
   "codemirror_mode": {
    "name": "ipython",
    "version": 3
   },
   "file_extension": ".py",
   "mimetype": "text/x-python",
   "name": "python",
   "nbconvert_exporter": "python",
   "pygments_lexer": "ipython3",
   "version": "3.9.13"
  }
 },
 "nbformat": 4,
 "nbformat_minor": 5
}
