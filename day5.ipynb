{
 "cells": [
  {
   "cell_type": "code",
   "execution_count": 1,
   "metadata": {},
   "outputs": [
    {
     "name": "stdout",
     "output_type": "stream",
     "text": [
      "hello world\n"
     ]
    }
   ],
   "source": [
    "print(\"hello world\")"
   ]
  },
  {
   "cell_type": "code",
   "execution_count": 2,
   "metadata": {},
   "outputs": [
    {
     "ename": "SyntaxError",
     "evalue": "expected ':' (4288610594.py, line 2)",
     "output_type": "error",
     "traceback": [
      "\u001b[1;36m  Cell \u001b[1;32mIn[2], line 2\u001b[1;36m\u001b[0m\n\u001b[1;33m    if(num1<10)\u001b[0m\n\u001b[1;37m               ^\u001b[0m\n\u001b[1;31mSyntaxError\u001b[0m\u001b[1;31m:\u001b[0m expected ':'\n"
     ]
    }
   ],
   "source": [
    "num1 = 100\n",
    "if(num1<10)\n",
    "print(\"hello\")"
   ]
  },
  {
   "cell_type": "code",
   "execution_count": null,
   "metadata": {},
   "outputs": [
    {
     "ename": "TypeError",
     "evalue": "unsupported operand type(s) for +: 'int' and 'str'",
     "output_type": "error",
     "traceback": [
      "\u001b[1;31m---------------------------------------------------------------------------\u001b[0m",
      "\u001b[1;31mTypeError\u001b[0m                                 Traceback (most recent call last)",
      "Cell \u001b[1;32mIn[3], line 3\u001b[0m\n\u001b[0;32m      1\u001b[0m x \u001b[38;5;241m=\u001b[39m \u001b[38;5;241m5\u001b[39m\n\u001b[0;32m      2\u001b[0m y \u001b[38;5;241m=\u001b[39m \u001b[38;5;124m\"\u001b[39m\u001b[38;5;124mhello\u001b[39m\u001b[38;5;124m\"\u001b[39m\n\u001b[1;32m----> 3\u001b[0m \u001b[38;5;28mprint\u001b[39m(\u001b[43mx\u001b[49m\u001b[38;5;241;43m+\u001b[39;49m\u001b[43my\u001b[49m)\n",
      "\u001b[1;31mTypeError\u001b[0m: unsupported operand type(s) for +: 'int' and 'str'"
     ]
    }
   ],
   "source": [
    "x = 5\n",
    "y = \"hello\"\n",
    "print(x+y)"
   ]
  },
  {
   "cell_type": "code",
   "execution_count": null,
   "metadata": {},
   "outputs": [
    {
     "name": "stdout",
     "output_type": "stream",
     "text": [
      "program is running\n",
      "program is executed\n",
      "the result of division is  2.0\n",
      "no execption found\n",
      "hello world\n"
     ]
    }
   ],
   "source": [
    "num1 = int(input(\"enter number:\"))\n",
    "num2 = int(input(\"enter number :\"))\n",
    "\n",
    "try:\n",
    "    print(\"program is running\")\n",
    "    result =  num1/num2\n",
    "    print(\"program is executed\")\n",
    "    print(\"the result of division is \",result)\n",
    "     \n",
    "except Exception as e:\n",
    "    print(\"as get an error\")\n",
    "    print(e)\n",
    "\n",
    "\n",
    "else:\n",
    "    print(\"no execption found\")\n",
    "\n",
    "\n",
    "finally:\n",
    "    print(\"hello world\")\n",
    "\n",
    "\n"
   ]
  },
  {
   "cell_type": "code",
   "execution_count": null,
   "metadata": {},
   "outputs": [
    {
     "name": "stdout",
     "output_type": "stream",
     "text": [
      "python\n"
     ]
    }
   ],
   "source": [
    "\n",
    "### oops\n",
    "\n",
    "class animal:\n",
    "    #class variables \n",
    "    name = \"elephant\"\n",
    "    weight = 2000\n",
    "    age = 25 \n",
    "\n",
    "#function VS methods\n",
    "\n",
    "    def display(self):\n",
    "        print(self.name)\n",
    "        print(self.weight)\n",
    "        print(self.age)\n",
    "\n",
    "\n",
    "obj_animal=animal()\n",
    "obj_animal1 = animal()\n",
    "# print(obj_animal.name)\n",
    "# obj_animal.display()\n",
    "\n",
    "obj_animal.name = \"python\"\n",
    "print(obj_animal.name)\n",
    "\n"
   ]
  },
  {
   "cell_type": "code",
   "execution_count": null,
   "metadata": {},
   "outputs": [],
   "source": [
    "# __init__"
   ]
  },
  {
   "cell_type": "code",
   "execution_count": null,
   "metadata": {},
   "outputs": [
    {
     "name": "stdout",
     "output_type": "stream",
     "text": [
      "lion\n",
      "22\n",
      "100\n"
     ]
    },
    {
     "data": {
      "text/plain": [
       "100"
      ]
     },
     "execution_count": 16,
     "metadata": {},
     "output_type": "execute_result"
    }
   ],
   "source": [
    "class animal:\n",
    "    num1 = 100\n",
    "    num2 = 200\n",
    "\n",
    "\n",
    "    def __init__(self,name,weight,age):\n",
    "        #instance variables\n",
    "        self.animal_name = name\n",
    "        self.animal_weight=weight\n",
    "        self.animal_age = age\n",
    "    \n",
    "    def display(self):\n",
    "        print(self.animal_name)\n",
    "        print(self.animal_weight)\n",
    "        print(self.animal_age)\n",
    "\n",
    "\n",
    "\n",
    "obj1 = animal(name= \"lion\",weight=100,age =22)\n",
    "print(obj1.animal_name)\n",
    "print(obj1.animal_age)\n",
    "print(obj1.animal_weight)\n",
    "\n",
    "print(obj1.num1)\n"
   ]
  },
  {
   "cell_type": "code",
   "execution_count": null,
   "metadata": {},
   "outputs": [
    {
     "name": "stdout",
     "output_type": "stream",
     "text": [
      "name of the account holder:-  ranjit singh and account number is :-  1277398219323\n",
      "\n",
      "acoount holder name is changed :-  Ranjit sharma \n",
      " Ranjit sharma \n",
      "22\n",
      "mathura up\n",
      "canara bank\n",
      "1277398219323\n",
      "\n",
      "second acc details\n",
      "ranjit singh\n",
      "\n",
      "show account 1 info\n",
      " Ranjit sharma \n",
      "22\n",
      "mathura up\n",
      "canara bank\n",
      "1277398219323\n",
      "\n",
      "show acc  2 info\n",
      "ranjit singh\n",
      "22\n",
      "mathura up\n",
      "canara bank\n",
      "1277398219323\n"
     ]
    }
   ],
   "source": [
    "class Bank:\n",
    "    name = \"ranjit singh\"\n",
    "    age = 22\n",
    "    address =\"mathura up\"\n",
    "    bank_name=\"canara bank\"\n",
    "    account_no= 1277398219323\n",
    "\n",
    "    def show_info(self):\n",
    "        print(self.name)\n",
    "        print(self.age)\n",
    "        print(self.address)\n",
    "        print(self.bank_name)\n",
    "        print(self.account_no)\n",
    "\n",
    "\n",
    "account_1= Bank()\n",
    "print(\"name of the account holder:- \",account_1.name, 'and account number is :- ',account_1.account_no)\n",
    "print()\n",
    "        \n",
    "account_1.name= \" Ranjit sharma \"\n",
    "print(\"acoount holder name is changed :-\", account_1.name )\n",
    "\n",
    "\n",
    "account_1.show_info()\n",
    "print()\n",
    "print('second acc details')\n",
    "\n",
    "account_2 = Bank()\n",
    "print(account_2.name)\n",
    "\n",
    "print()\n",
    "\n",
    "print(\"show account 1 info\")\n",
    "account_1.show_info()\n",
    "print()\n",
    "\n",
    "\n",
    "print(\"show acc  2 info\")\n",
    "account_2.show_info()\n"
   ]
  },
  {
   "cell_type": "code",
   "execution_count": null,
   "metadata": {},
   "outputs": [],
   "source": [
    "### inheritence\n",
    "\n",
    "\n",
    "#1 single inh"
   ]
  },
  {
   "cell_type": "code",
   "execution_count": null,
   "metadata": {},
   "outputs": [
    {
     "name": "stdout",
     "output_type": "stream",
     "text": [
      "constructor is executed\n",
      "67\n",
      "my father name is  Mohan\n",
      "my father age is  67\n"
     ]
    }
   ],
   "source": [
    "class Father:\n",
    "    def __init__(self,name,age):\n",
    "        self.father_name = name\n",
    "        self.father_age = age\n",
    "        print(\"constructor is executed\")\n",
    "\n",
    "\n",
    "    def display(self):\n",
    "        print(\"my father name is \",self.father_name)\n",
    "        print(\"my father age is \",self.father_age)\n",
    "        \n",
    "class Son(Father):\n",
    "    def son_hii(self):\n",
    "        print(\"hi i am ram\")\n",
    "        print(\"i am 22 years old\")\n",
    "\n",
    "son_obj = Son(\"Mohan\",67)\n",
    "print(son_obj.father_age)\n",
    "\n",
    "son_obj.display()"
   ]
  },
  {
   "cell_type": "code",
   "execution_count": 5,
   "metadata": {},
   "outputs": [
    {
     "name": "stdout",
     "output_type": "stream",
     "text": [
      "[1, 2, 4, 7, 8]\n"
     ]
    }
   ],
   "source": [
    "## make a python function\n",
    "#  that takes a list and returns a new list with\n",
    "#  the distinct elements from the first list\n",
    "\n",
    "# ex - [1,2,2,4,7,8,8]\n",
    "\n",
    "\n",
    "def unique_list(l):\n",
    "    x = []\n",
    "    for a in l:\n",
    "        if a  not in x:\n",
    "            x.append(a)\n",
    "    return x\n",
    "\n",
    "\n",
    "print(unique_list([1,2,2,4,7,8,8]))\n",
    "\n",
    "\n",
    "\n"
   ]
  },
  {
   "cell_type": "code",
   "execution_count": 6,
   "metadata": {},
   "outputs": [
    {
     "name": "stdout",
     "output_type": "stream",
     "text": [
      "black-green-red-white-yellow\n"
     ]
    }
   ],
   "source": [
    "# write a python code that aaepts a hyphen-seprated seq of words \n",
    "# as input and print the words in a hyphen-\n",
    "# seprated seq after sorting them alphabetically\n",
    "# sample : green-red-yellow-black-white\n",
    "# expected : black-green-red-white-yellow\n",
    "\n",
    "items = [n for n in input().split(\"-\")]\n",
    "\n",
    "items.sort()\n",
    "print(\"-\".join(items))\n"
   ]
  },
  {
   "cell_type": "code",
   "execution_count": null,
   "metadata": {},
   "outputs": [],
   "source": []
  }
 ],
 "metadata": {
  "kernelspec": {
   "display_name": "Python 3",
   "language": "python",
   "name": "python3"
  },
  "language_info": {
   "codemirror_mode": {
    "name": "ipython",
    "version": 3
   },
   "file_extension": ".py",
   "mimetype": "text/x-python",
   "name": "python",
   "nbconvert_exporter": "python",
   "pygments_lexer": "ipython3",
   "version": "3.12.2"
  }
 },
 "nbformat": 4,
 "nbformat_minor": 2
}
