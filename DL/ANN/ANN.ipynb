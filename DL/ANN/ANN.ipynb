{
 "cells": [
  {
   "cell_type": "markdown",
   "metadata": {},
   "source": [
    "## MACHINE LEARNING OVERVIEW\n"
   ]
  },
  {
   "cell_type": "markdown",
   "metadata": {},
   "source": [
    "Key Algorithms:\n",
    "\n",
    "Linear Regression: For predicting a continuous output variable.\n",
    "\n",
    "Logistic Regression: For binary classification tasks.\n",
    "\n",
    "Decision Trees and Random Forests: For classification and regression tasks.\n",
    "\n",
    "Support Vector Machines (SVM): For classification tasks.\n",
    "\n",
    "Neural Networks and Deep Learning: For complex pattern recognition tasks, including image and speech recognition.\n",
    "\n",
    "K-Means Clustering: For partitioning data into clusters in unsupervised learning.\n",
    "\n",
    "Principal Component Analysis (PCA): For reducing the dimensionality of data in unsupervised learning."
   ]
  },
  {
   "cell_type": "markdown",
   "metadata": {},
   "source": [
    "Machine learning (ML) is a subset of artificial intelligence (AI) focused on developing algorithms that enable computers to learn from and make decisions based on data. Here's a brief overview:\n"
   ]
  },
  {
   "cell_type": "markdown",
   "metadata": {},
   "source": [
    "Types of Machine Learning:\n",
    "\n",
    "Supervised Learning: The algorithm is trained on labeled data. The model learns to map inputs to outputs based on example input-output pairs (e.g., classification and regression).\n",
    "\n",
    "Unsupervised Learning: The algorithm is used on unlabeled data. The model tries to identify patterns and relationships in the data without explicit instructions (e.g., clustering, dimensionality reduction).\n",
    "\n",
    "Reinforcement Learning: The model learns by interacting with an environment and receiving feedback in the form of rewards or penalties (e.g., game playing, robotics)."
   ]
  },
  {
   "cell_type": "markdown",
   "metadata": {},
   "source": [
    "The definition of Deep learning is that it is the branch of machine learning that is based on artificial neural network architecture. An artificial neural network or ANN uses layers of interconnected nodes called neurons that work together to process and learn from the input data.\n",
    "\n",
    "In a fully connected Deep neural network, there is an input layer and one or more hidden layers connected one after the other. Each neuron receives input from the previous layer neurons or the input layer. The output of one neuron becomes the input to other neurons in the next layer of the network, and this process continues until the final layer produces the output of the network. The layers of the neural network transform the input data through a series of nonlinear transformations, allowing the network to learn complex representations of the input data."
   ]
  },
  {
   "cell_type": "markdown",
   "metadata": {},
   "source": [
    "<img src = \"subset.jpg\">"
   ]
  },
  {
   "cell_type": "markdown",
   "metadata": {},
   "source": [
    "<img src = \"deep-learning-example.png\">"
   ]
  },
  {
   "cell_type": "markdown",
   "metadata": {},
   "source": [
    "## ML vs DL"
   ]
  },
  {
   "cell_type": "markdown",
   "metadata": {},
   "source": [
    "<img src =\"ml vs dl.png\">"
   ]
  },
  {
   "cell_type": "markdown",
   "metadata": {},
   "source": [
    "Deep learning applications\n",
    "\n",
    "Self-Driving Cars\n",
    "\n",
    "In self-driven cars, it is able to capture the images around it by processing a huge amount of data, and then it will decide which actions should be incorporated to take a left or right or should it stop. So, accordingly, it will decide what actions it should take, which will further reduce the accidents that happen every year.\n",
    "\n",
    "Voice Controlled Assistance\n",
    "\n",
    "When we talk about voice control assistance, then Siri is the one thing that comes into our mind. So, you can tell Siri whatever you want it to do it for you, and it will search it for you and display it for you.\n",
    "\n",
    "Automatic Image Caption Generation\n",
    "\n",
    "Whatever image that you upload, the algorithm will work in such a way that it will generate caption accordingly. If you say blue colored eye, it will display a blue-colored eye with a caption at the bottom of the image.\n",
    "\n",
    "Automatic Machine Translation\n",
    "\n",
    "With the help of automatic machine translation, we are able to convert one language into another with the help of deep learning."
   ]
  },
  {
   "cell_type": "markdown",
   "metadata": {},
   "source": [
    "## Biological Neuron\n"
   ]
  },
  {
   "cell_type": "markdown",
   "metadata": {},
   "source": [
    "Neurons are the building blocks of the nervous system. They receive and transmit signals to different parts of the body. This is carried out in both physical and electrical forms. There are several different types of neurons that facilitate the transmission of information."
   ]
  },
  {
   "cell_type": "markdown",
   "metadata": {},
   "source": [
    "<img src =\"STRUCTURE-OF-NEURON.png\">"
   ]
  },
  {
   "cell_type": "markdown",
   "metadata": {},
   "source": [
    "Artificial Neural Network:\n",
    "\n",
    " Artificial Neural Network (ANN) is a type of neural network that is based on a Feed-Forward strategy. It is called this because they pass information through the nodes continuously till it reaches the output node. This is also known as the simplest type of neural network"
   ]
  },
  {
   "cell_type": "markdown",
   "metadata": {},
   "source": [
    "<img src = \"ann vs bnn.png\">"
   ]
  },
  {
   "cell_type": "markdown",
   "metadata": {},
   "source": [
    "## Single Layer Perceptron in TensorFlow"
   ]
  },
  {
   "cell_type": "markdown",
   "metadata": {},
   "source": [
    "Biological neuron has three basic functionality \n",
    "\n",
    "Receive signal from outside.\n",
    "\n",
    "Process the signal and enhance whether we need to send information or not.\n",
    "\n",
    "Communicate the signal to the target cell which can be another neuron or gland."
   ]
  },
  {
   "cell_type": "markdown",
   "metadata": {},
   "source": [
    "<img src =\"nodeNeural.jpg\">"
   ]
  },
  {
   "cell_type": "markdown",
   "metadata": {},
   "source": [
    "The main functionality of the perceptron is:-\n",
    "\n",
    "Takes input from the input layer\n",
    "\n",
    "Weight them up and sum it up.\n",
    "\n",
    "Pass the sum to the nonlinear function to produce the output."
   ]
  },
  {
   "cell_type": "markdown",
   "metadata": {},
   "source": [
    "<img src=\"actfn.jpg\">"
   ]
  },
  {
   "cell_type": "markdown",
   "metadata": {},
   "source": [
    "binary --> 1 node\n",
    "\n",
    "multiclass --> jitni no of class utne nodes"
   ]
  },
  {
   "cell_type": "markdown",
   "metadata": {},
   "source": [
    "<img src =\"activation functions.png\">"
   ]
  },
  {
   "cell_type": "markdown",
   "metadata": {},
   "source": [
    "1. Sigmoid or Logistic Activation Function\n",
    "\n",
    "The Sigmoid Function curve looks like a S-shape.\n",
    "\n"
   ]
  },
  {
   "cell_type": "markdown",
   "metadata": {},
   "source": [
    "The main reason why we use sigmoid function is because it exists between (0 to 1). Therefore, it is especially used for models where we have to predict the probability as an output.Since probability of anything exists only between the range of 0 and 1, sigmoid is the right choice."
   ]
  },
  {
   "cell_type": "markdown",
   "metadata": {},
   "source": [
    "it is used for binary classification\n"
   ]
  },
  {
   "cell_type": "markdown",
   "metadata": {},
   "source": [
    "ReLU (Rectified Linear Unit) Activation Function\n",
    "\n",
    "The ReLU is the most used activation function in the world right now.Since, it is used in almost all the convolutional neural networks or deep learning."
   ]
  },
  {
   "cell_type": "markdown",
   "metadata": {},
   "source": [
    "<img src = \"relu.png\">"
   ]
  },
  {
   "cell_type": "markdown",
   "metadata": {},
   "source": [
    "But the issue is that all the negative values become zero immediately which decreases the ability of the model to fit or train from the data properly. That means any negative input given to the ReLU activation function turns the value into zero immediately in the graph, which in turns affects the resulting graph by not mapping the negative values appropriately."
   ]
  },
  {
   "cell_type": "markdown",
   "metadata": {},
   "source": [
    "What Are Loss Functions?\n",
    "\n",
    "A loss function measures how good a neural network model is in performing a certain task, which in most cases is regression or classification.\n",
    "\n",
    "We must minimize the value of the loss function during the backpropagation step in order to make the neural network better."
   ]
  },
  {
   "cell_type": "markdown",
   "metadata": {},
   "source": [
    "<img src=\"loss.jpg\">"
   ]
  },
  {
   "cell_type": "markdown",
   "metadata": {},
   "source": [
    "CLASSIFICATION PROBLEMS:\n",
    "\n",
    "1 Mean Squared Error\n",
    "\n",
    "2 Mean Absolute Error\n",
    "\n",
    "3 Huber loss\n",
    "\n",
    "REG PROBLEMS:\n",
    "\n",
    "1 Binary cross entropy loss\n",
    "\n",
    "2 log loss(cross entropy loss)\n",
    "\n",
    "3 categorical cross-entropy loss\n",
    "\n",
    "4 sparse categorical cross entropy loss\n"
   ]
  },
  {
   "cell_type": "markdown",
   "metadata": {},
   "source": [
    "--> Bias range = -0.1 and 0.1 or -1 and 1"
   ]
  },
  {
   "cell_type": "markdown",
   "metadata": {},
   "source": [
    "--> Weights range = [-0.1,.1] or [-1,1]"
   ]
  },
  {
   "cell_type": "markdown",
   "metadata": {},
   "source": [
    "## Optimizers\n"
   ]
  },
  {
   "cell_type": "markdown",
   "metadata": {},
   "source": [
    "Optimizers are crucial in training artificial neural networks (ANNs) as they determine how the model's weights are updated during the training process. Different optimizers have various strengths and are suited for different types of problems. Here’s an overview of some commonly used optimizers in ANNs:"
   ]
  },
  {
   "cell_type": "markdown",
   "metadata": {},
   "source": [
    "Gradient Descent\n",
    "\n",
    "Stochastic Gradient\n",
    "\n",
    "Stochastic Gradient Descent With Momentum\n",
    "\n",
    "Mini Batch Gradient Descent\n",
    "\n",
    "Adagrad (Adaptive Gradient Descent)\n",
    "\n",
    "RMS Prop (Root Mean Square)\n",
    "\n",
    "AdaDelta\n",
    "\n",
    "Adam Optimizer"
   ]
  },
  {
   "cell_type": "markdown",
   "metadata": {},
   "source": [
    "<img src =\"f&b.jpg\">"
   ]
  },
  {
   "cell_type": "markdown",
   "metadata": {},
   "source": [
    "EPOCH"
   ]
  }
 ],
 "metadata": {
  "language_info": {
   "name": "python"
  }
 },
 "nbformat": 4,
 "nbformat_minor": 2
}
