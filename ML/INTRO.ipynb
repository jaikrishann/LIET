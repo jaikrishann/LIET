{
 "cells": [
  {
   "cell_type": "markdown",
   "metadata": {},
   "source": [
    "## What is Machine Learning?"
   ]
  },
  {
   "cell_type": "markdown",
   "metadata": {},
   "source": [
    " Machine Learning definition is the science of teaching machines how to learn by themselves.\n",
    "\n",
    "Machines can do high-frequency repetitive tasks with high accuracy without getting bored"
   ]
  },
  {
   "cell_type": "markdown",
   "metadata": {},
   "source": [
    "To understand how machine learning works, let’s take an example – the task of mopping and cleaning the floor. When a human does the task – the quality of outcome would vary. We get exhausted/bored after a few hours of work and the chances of getting sick also impact the outcome.\n",
    "\n"
   ]
  },
  {
   "cell_type": "markdown",
   "metadata": {},
   "source": [
    "On the other hand, if we can teach machines to detect whether the floor needs cleaning and mopping and how much cleaning is required based on the condition of the floor and the type of the floor – machines would perform the same job far better. They can go on to do that job without getting tired or sick!"
   ]
  },
  {
   "cell_type": "markdown",
   "metadata": {},
   "source": [
    "This is what Machine Learning aims to do – enable machines to learn on their own. In order to answer the questions like:\n",
    "\n",
    "Whether the floor needs cleaning and mopping?\n",
    "How long does the floor need to be cleaned?"
   ]
  },
  {
   "cell_type": "markdown",
   "metadata": {},
   "source": [
    "Machines need a way to think and this is precisely where machine learning models help. The machines capture data from the environment and feed it to the machine learning model. The model then uses this data to predict things like:\n",
    "\n",
    "Whether the floor needs cleaning or not, or\n",
    "For how long does it need to be cleaned, and so on."
   ]
  },
  {
   "cell_type": "markdown",
   "metadata": {},
   "source": [
    "## How do machines learn?"
   ]
  },
  {
   "cell_type": "markdown",
   "metadata": {},
   "source": [
    "We need to collect a lot of data along with the desired outcomes in order to teach machines to perform specific tasks. This is where machine learning comes into play.\n",
    "\n",
    "To breakdown how machine learning works, machine Learning would help the machine understand the kind of cleaning, the intensity of cleaning, and duration of cleaning based on the conditions and nature of the floor."
   ]
  },
  {
   "cell_type": "markdown",
   "metadata": {},
   "source": [
    "### Applications of Machine Learning in day-to-day life"
   ]
  },
  {
   "cell_type": "markdown",
   "metadata": {},
   "source": [
    "Let us look at a few examples where we use the outcome of machine learning already:\n",
    "\n",
    "Smartphones detecting faces while taking photos or unlocking themselves\n",
    "\n",
    "Facebook, LinkedIn or any other social media site recommending your friends and ads you might be interested in\n",
    "Amazon recommending you the products based on your browsing history\n",
    "\n",
    "Banks using Machine Learning to detect Fraud transactions in real-time"
   ]
  },
  {
   "cell_type": "markdown",
   "metadata": {},
   "source": [
    "## How is machine learning different from automation?\n",
    "\n",
    "If you are thinking that machine learning is nothing but a new name of automation – you would be wrong.\n",
    "\n",
    "Most of the automation which has happened in the last few decades has been rule-driven automation. For example – automating flows in our mailbox needs us to define the rules. These rules act in the same manner every time. On the other hand, machine learning helps machines learn by past data and change their decisions/performance accordingly.\n",
    "\n",
    "Spam detection in our mailboxes is driven by machine learning. Hence, it continues to evolve with time.\n",
    "\n",
    "The only relation between the two things is that machine learning enables better automation."
   ]
  },
  {
   "cell_type": "markdown",
   "metadata": {},
   "source": [
    "## What tools are used in Machine Learning?\n",
    "There are several tools and languages being used in machine learning. The exact choice of the tool depends on your need and scale of operations. But, here are the most commonly used tools in machine learning:\n",
    "\n",
    "Languages:\n",
    "R\n",
    "Python\n",
    "SAS\n",
    "Julia\n",
    "Java\n",
    "Javascript\n",
    "Scala\n",
    "\n",
    "Databases:\n",
    "SQL\n",
    "Oracle\n",
    "Hadoop\n",
    "\n",
    "Visualization tools:\n",
    "D3.js\n",
    "Tableau\n",
    "QlikView\n",
    "\n",
    "Other tools commonly used:\n",
    "Excel\n",
    "Powerpoint"
   ]
  },
  {
   "cell_type": "markdown",
   "metadata": {},
   "source": [
    "## How is Machine Learning Different from Deep Learning?"
   ]
  },
  {
   "cell_type": "markdown",
   "metadata": {},
   "source": [
    "<img src=\"download.png\" alt=\"Pie Plot\" style=\"width: 400px; height: 400px;\">"
   ]
  },
  {
   "cell_type": "markdown",
   "metadata": {},
   "source": [
    "What are the kind of problems which can be solved using machine learning?\n",
    "Machine Learning problems can be divided into 3 broad classes:\n",
    "\n",
    "Supervised Machine Learning: When you have past data with outcomes (labels in machine learning terminology) and you want to predict the outcomes for the future – you would use Supervised Machine Learning algorithms. Supervised Machine Learning problems can again be divided into 2 kinds of problems:\n",
    "\n",
    "Classification Problems: When you want to classify outcomes into different classes. For example – whether the floor needs cleaning/mopping is a classification problem. The outcome can fall into one of the classes – Yes or No. Similarly, whether a customer would default on their loan or not is a classification problem which is of high interest to any Bank\n",
    "\n",
    "Regression Problem: When you are interested in answering how much – these problems would fall under the Regression umbrella. For example – how much cleaning needs to be done is a Regression problem. Or what is the expected amount of default from a customer is a Regression problem\n",
    "\n",
    "Unsupervised Machine Learning: There are times when you don’t want to exactly predict an Outcome. You just want to perform a segmentation or clustering. For example – a bank would want to have a segmentation of its customers to understand their behavior. This is an Unsupervised Machine Learning problem as we are not predicting any outcomes here\n",
    "\n",
    "Reinforcement Learning: Reinforcement Learning is said to be the hope of true artificial intelligence. And it is rightly said so because the potential that Reinforcement Learning possesses is immense. It is a slightly complex topic as compared to traditional machine learning but an equally crucial one for the future.\n",
    "\n",
    "\n",
    "--> More terms:-\n",
    "\n",
    "Segmentation: Often used for dividing data into predefined, meaningful segments based on specific criteria or rules.\n",
    "\n",
    "Clustering: Used to discover the inherent grouping in a dataset without prior knowledge of the group definitions."
   ]
  },
  {
   "cell_type": "markdown",
   "metadata": {},
   "source": [
    "<img src=\"Machine-learning-algorithms-and-common-applications.png\" alt=\"Pie Plot\" style=\"width: 500px; height: 400px;\">"
   ]
  },
  {
   "cell_type": "markdown",
   "metadata": {},
   "source": [
    "What are the Different algorithms used in Machine Learning?\n",
    "\n",
    "Supervised Learning\n",
    "\n",
    "Linear Regression,\n",
    "Logistic Regression,\n",
    "k-nearest neighbors,\n",
    "Decision Trees,\n",
    "Random Forest,\n",
    "Gradient Boosting Machines,\n",
    "XGBoost,\n",
    "Support Vector Machines (SVM),\n",
    "Neural Networks.\n",
    "\n",
    "Unsupervised Learning\n",
    "\n",
    "k means clustering,\n",
    "Hierarchical clustering,\n",
    "Neural Network.\n",
    "\n",
    "Reinforcement Learning"
   ]
  },
  {
   "cell_type": "markdown",
   "metadata": {},
   "source": [
    "How much data is required to train a machine-learning model?\n",
    "\n",
    "There is no simple answer to this question. It depends on the problem you are trying to solve, the cost of collecting incremental data and the benefits coming from incremental data. To simplify data understanding in machine learning, here are some guidelines:\n",
    "\n",
    "In general – you would want to collect as much data as possible. If the cost of collecting the data is not very high – this ends up working fine\n",
    "\n",
    "If the cost of capturing the data is high, then you would need to do a cost-benefit analysis based on the expected benefits coming from machine learning models\n",
    "\n",
    "The data being captured should be representative of the behavior/environment you expect the model to work on"
   ]
  },
  {
   "cell_type": "markdown",
   "metadata": {},
   "source": [
    "What kind of data is required to train a machine learning model?\n",
    "\n",
    "Everything which you see, hear and do is data. All you need is to capture that in the right manner.\n",
    "\n",
    "Data is omnipresent these days. From logs on websites and smartphones to health devices – we are in a constant process of creating data. In fact, 90% of the data in this Universe has been created in the last 18 months.\n",
    "\n",
    "Data can broadly be classified into two types:\n",
    "\n",
    "Structured Data: Structured data typically refers to data stored in a tabular format in databases in organizations. This includes data about customers, interactions with them and several other attributes, which flow through the IT infrastructure of Enterprises\n",
    "\n",
    "Unstructured Data: Unstructured Data includes all the data which gets captured, but is not stored in the form of tables in enterprises. For example – letters of communication from customers or tweets and pictures from customers. It also includes images and voice records.\n",
    "\n",
    "Machine Learning models can work on both Structured as well as Unstructured Data. However, you need to convert unstructured data to structured data first."
   ]
  },
  {
   "cell_type": "markdown",
   "metadata": {},
   "source": [
    "What are the steps involved in building machine learning models?\n",
    "\n",
    "Any machine learning model development can broadly be divided into six steps:\n",
    "\n",
    "Problem definition involves converting a Business Problem to a machine learning problem\n",
    "\n",
    "Hypothesis generation is the process of creating a possible business hypothesis and potential features for the model\n",
    "\n",
    "Data Collection requires you to collect the data for testing your hypothesis and building the model\n",
    "\n",
    "Data Exploration and cleaning helps you remove outliers, missing values and then transform the data into the required format\n",
    "\n",
    "Modeling is where you actually build the machine learning models\n",
    "\n",
    "Once built, you will deploy the models"
   ]
  },
  {
   "cell_type": "markdown",
   "metadata": {},
   "source": [
    "<img src=\"download (1).png\"  style=\"width: 500px; height: 400px;\">"
   ]
  },
  {
   "cell_type": "markdown",
   "metadata": {},
   "source": [
    "What are some of the Challenges in the adoption of Machine Learning?\n",
    "\n",
    "While machine learning has made tremendous progress in the last few years, there are some big challenges that still need to be solved. It is an area of active research and I expect a lot of effort to solve these problems in the coming time.\n",
    "\n",
    "Huge data required: It takes a huge amount of data to train a model today. For example – if you want to classify Cats vs. Dogs based on images (and you don’t use an existing model) – you would need the model to be trained on thousands of images. Compare that to a human – we typically explain the difference between Cat and Dog to a child by using 2 or 3 photos\n",
    "\n",
    "High compute required: As of now, machine learning and deep learning models require huge computations to achieve simple tasks (simple according to humans). This is why the use of special hardware including GPUs and TPUs is required. The cost of computations needs to come down for machine learning to make a next-level impact\n",
    "\n",
    "Interpretation of models is difficult at times: Some modeling techniques can give us high accuracy but are difficult to explain. This can leave the business owners frustrated. Imagine being a bank, but you cannot tell why you declined a loan for a customer!\n",
    "\n",
    "New and better algorithms required: Researchers are consistently looking out for new and better algorithms to address some of the problems mentioned above\n",
    "\n",
    "More Data Scientists needed: Further, since the domain has grown so quickly – there aren’t many people with the skill sets required to solve the vast variety of problems. This is expected to remain so for the next few years. So, if you are thinking about building a career in machine learning – you are in good stead!"
   ]
  },
  {
   "cell_type": "markdown",
   "metadata": {},
   "source": [
    "What are the skills needed to build a career in Machine Learning?\n",
    "\n",
    "Structured thinking, communication, and problem-solving\n",
    "\n",
    "This is probably the most important skill required in a data scientist. You need to take business problems and then convert them to machine learning problems. This requires putting a framework around the problem and then solving it. Check out this course to build and hone your structured thinking skills\n",
    "\n",
    "Mathematics and Statistics\n",
    "\n",
    "You need mathematics and statistics to understand how the algorithms work and what are their limitations\n",
    "Business Understanding\n",
    "At the end of the day, you will be solving business problems using machine learning. So, you would need to have a good understanding of the current processes, limitations, and options\n",
    "\n",
    "Software Skills\n",
    "\n",
    "Data Scientists not only need to build algorithms, but they also need to code them and integrate them into the products seamlessly. That is where software skills come into play"
   ]
  },
  {
   "cell_type": "markdown",
   "metadata": {},
   "source": [
    "Data Types\n",
    "\n",
    "To analyze data, it is important to know what type of data we are dealing with.\n",
    "\n",
    "We can split the data types into three main categories:\n",
    "\n",
    "Numerical\n",
    "\n",
    "Categorical\n",
    "\n",
    "Ordinal\n",
    "\n",
    "Numerical data are numbers, and can be split into two numerical categories:\n",
    "\n",
    "Discrete Data\n",
    "\n",
    "- counted data that are limited to integers. Example: The number of cars passing by.\n",
    "\n",
    "Continuous Data\n",
    "\n",
    "- measured data that can be any number. Example: The price of an item, or the size of an item\n",
    "\n",
    "Categorical data are values that cannot be measured up against each other. Example: a color value, or any yes/no values.\n",
    "\n",
    "Ordinal data are like categorical data, but can be measured up against each other. Example: school grades where A is better than B and so on.\n",
    "\n",
    "By knowing the data type of your data source, you will be able to know what technique to use when analyzing them."
   ]
  },
  {
   "cell_type": "markdown",
   "metadata": {},
   "source": [
    "Mean, Median, and Mode\n",
    "\n",
    "\n",
    "In Machine Learning (and in mathematics) there are often three values that interests us:\n",
    "\n",
    "Mean - The average value\n",
    "\n",
    "Median - The mid point value\n",
    "\n",
    "Mode - The most common value"
   ]
  },
  {
   "cell_type": "markdown",
   "metadata": {},
   "source": [
    "What is Standard Deviation?\n",
    "\n",
    "Standard deviation is a number that describes how spread out the values are.\n",
    "\n",
    "A low standard deviation means that most of the numbers are close to the mean (average) value.\n",
    "\n",
    "A high standard deviation means that the values are spread out over a wider range.\n",
    "\n",
    "It tells you how much the numbers in the data set typically deviate from the average (mean) value."
   ]
  },
  {
   "cell_type": "code",
   "execution_count": 1,
   "metadata": {},
   "outputs": [
    {
     "name": "stdout",
     "output_type": "stream",
     "text": [
      "0.9035079029052513\n"
     ]
    }
   ],
   "source": [
    "import numpy as np\n",
    "\n",
    "\n",
    "speed = [86,87,88,86,87,85,86]\n",
    "\n",
    "x = np.std(speed)\n",
    "\n",
    "print(x)"
   ]
  },
  {
   "cell_type": "markdown",
   "metadata": {},
   "source": [
    "Variance\n",
    "\n",
    "Variance is another number that indicates how spread out the values are.\n",
    "\n",
    "In fact, if you take the square root of the variance, you get the standard deviation!\n",
    "\n",
    "Or the other way around, if you multiply the standard deviation by itself, you get the variance!"
   ]
  },
  {
   "cell_type": "code",
   "execution_count": null,
   "metadata": {},
   "outputs": [],
   "source": [
    "# 1. Find the mean:\n",
    "\n",
    "# (32+111+138+28+59+77+97) / 7 = 77.4\n",
    "\n",
    "# 2. For each value: find the difference from the mean:\n",
    "\n",
    "#  32 - 77.4 = -45.4\n",
    "# 111 - 77.4 =  33.6\n",
    "# 138 - 77.4 =  60.6\n",
    "#  28 - 77.4 = -49.4\n",
    "#  59 - 77.4 = -18.4\n",
    "#  77 - 77.4 = - 0.4\n",
    "#  97 - 77.4 =  19.6\n",
    "\n",
    "# 3. For each difference: find the square value:\n",
    "\n",
    "# (-45.4)2 = 2061.16\n",
    "#  (33.6)2 = 1128.96\n",
    "#  (60.6)2 = 3672.36\n",
    "# (-49.4)2 = 2440.36\n",
    "# (-18.4)2 =  338.56\n",
    "# (- 0.4)2 =    0.16\n",
    "#  (19.6)2 =  384.16\n",
    " \n",
    "# 4. The variance is the average number of these squared differences:\n",
    "\n",
    "# (2061.16+1128.96+3672.36+2440.36+338.56+0.16+384.16) / 7 = 1432.2"
   ]
  },
  {
   "cell_type": "markdown",
   "metadata": {},
   "source": [
    "Symbols\n",
    "\n",
    "Standard Deviation is often represented by the symbol Sigma: σ\n",
    "\n",
    "Variance is often represented by the symbol Sigma Squared: σ2"
   ]
  },
  {
   "cell_type": "markdown",
   "metadata": {},
   "source": [
    "What are Percentiles?\n",
    "\n",
    "Percentiles are used in statistics to give you a number that describes the value that a given percent of the values are lower than.\n",
    "\n",
    "Example: Let's say we have an array of the ages of all the people that live in a street.\n",
    "\n",
    "ages = [5,31,43,48,50,41,7,11,15,39,80,82,32,2,8,6,25,36,27,61,31]\n",
    "\n",
    "What is the 75. percentile? The answer is 43, meaning that 75% of the people are 43 or younger."
   ]
  },
  {
   "cell_type": "markdown",
   "metadata": {},
   "source": [
    "Example: Predicting House Prices\n",
    "\n",
    "Let's consider a simple dataset for predicting house prices:\n",
    "\n",
    "Size (sq ft)\tNumber of Bedrooms\tNumber of Bathrooms\tLocation\tAge of House\tPrice (Label)\n",
    "\n",
    "2000\t3\t2\tSuburban\t10\t$300,000\n",
    "1500\t2\t1\tUrban\t5\t$250,000\n",
    "2500\t4\t3\tSuburban\t15\t$400,000\n",
    "\n",
    "Features: Size (sq ft), Number of Bedrooms, Number of Bathrooms, Location, Age of House\n",
    "\n",
    "Label: Price\n",
    "\n",
    "The model will learn how these features relate to the price and use this knowledge to predict the price of new houses based on their features.\n",
    "\n",
    "Summary\n",
    "\n",
    "Features: Inputs to the model, used to make predictions. Represented as columns in a dataset.\n",
    "\n",
    "Labels: Outputs the model is trying to predict. Represented as the target variable in a dataset.\n",
    "\n",
    "Understanding these concepts is crucial for building and training effective machine learning models."
   ]
  },
  {
   "cell_type": "markdown",
   "metadata": {},
   "source": [
    "<img src=\"dtree_test_set.png\"  style=\"width: 500px; height: 400px;\">"
   ]
  },
  {
   "cell_type": "markdown",
   "metadata": {},
   "source": [
    "Linear reg:-\n",
    "\n",
    "Linear regression is a fundamental statistical method used in machine learning and data analysis to model the relationship between a dependent variable (also known as the target or label) and one or more independent variables (features). The goal of linear regression is to find the best-fitting straight line (or hyperplane in higher dimensions) that predicts the dependent variable based on the independent variables.\n",
    "\n"
   ]
  },
  {
   "cell_type": "markdown",
   "metadata": {},
   "source": [
    "Key Concepts of Linear Regression\n",
    "\n",
    "Dependent Variable (Label):\n",
    "\n",
    "The variable that you are trying to predict or explain. In the context of machine learning, it is often referred to as the label or target variable.\n",
    "\n",
    "Independent Variables (Features):\n",
    "\n",
    "The variables that are used to make predictions about the dependent variable. These are also called predictor variables or explanatory variables.\n",
    "\n",
    "Linear Relationship:\n",
    "\n",
    "Linear regression assumes that there is a linear relationship between the dependent variable and the independent variables. This means that the change in the dependent variable is proportional to the change in the independent variable(s)."
   ]
  },
  {
   "cell_type": "markdown",
   "metadata": {},
   "source": []
  },
  {
   "cell_type": "code",
   "execution_count": null,
   "metadata": {},
   "outputs": [],
   "source": []
  }
 ],
 "metadata": {
  "kernelspec": {
   "display_name": "Python 3",
   "language": "python",
   "name": "python3"
  },
  "language_info": {
   "codemirror_mode": {
    "name": "ipython",
    "version": 3
   },
   "file_extension": ".py",
   "mimetype": "text/x-python",
   "name": "python",
   "nbconvert_exporter": "python",
   "pygments_lexer": "ipython3",
   "version": "3.12.2"
  }
 },
 "nbformat": 4,
 "nbformat_minor": 2
}
